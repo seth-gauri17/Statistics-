{
  "nbformat": 4,
  "nbformat_minor": 0,
  "metadata": {
    "colab": {
      "provenance": []
    },
    "kernelspec": {
      "name": "python3",
      "display_name": "Python 3"
    },
    "language_info": {
      "name": "python"
    }
  },
  "cells": [
    {
      "cell_type": "markdown",
      "source": [
        "*********************         Statistics             **************************"
      ],
      "metadata": {
        "id": "_wRbjsv333C7"
      }
    },
    {
      "cell_type": "markdown",
      "source": [
        "#1 What is statistics, and why is it important?\n",
        "Ans:\n",
        "\n",
        "Statistics is a branch of mathematics focused on collecting, analyzing, interpreting, and presenting data. It's important because it helps us understand patterns, make informed decisions, and draw meaningful conclusions from information, even when it's complex or uncertain.\n",
        "\n",
        "Here's a more detailed look at its importance:\n",
        "\n",
        "1. Understanding Data: Statistics provides tools and methods to summarize and interpret data, revealing trends, patterns, and relationships that might not be obvious from raw data alone.\n",
        "\n",
        "2. Making Informed Decisions: By analyzing data, statistics helps individuals and organizations make better decisions in various fields, including business, healthcare, and public policy.\n",
        "\n",
        "3. Predicting the Future: Statistical models can be used to forecast future events based on past trends and patterns, enabling proactive planning and risk management.\n",
        "\n",
        "4. Drawing Conclusions from Samples: Inferential statistics allows us to make generalizations about a larger population based on data collected from a smaller sample, which is crucial when studying large groups.\n",
        "\n",
        "5. Validating Hypotheses: Statistics provides methods for testing hypotheses and determining the likelihood that observed results are due to chance or a real effect.\n",
        "\n",
        "6. Improving Research: Statistical analysis is essential for conducting research, evaluating outcomes, and developing critical thinking skills.\n",
        "\n",
        "7. Communication and Presentation: Statistics helps in presenting data in a clear and understandable manner, using graphs, charts, and other visual aids.\n",
        "\n",
        "\n",
        "In essence, statistics provides a framework for making sense of the world around us by transforming raw data into actionable insights."
      ],
      "metadata": {
        "id": "MHH3S0_Y4BgH"
      }
    },
    {
      "cell_type": "markdown",
      "source": [
        "#2 What are the two main types of statistics?\n",
        "Ans:\n",
        "\n",
        "The two main types of statistics are descriptive statistics and inferential statistics.\n",
        "\n",
        "Descriptive statistics summarizes and organizes data from a sample or population using measures like mean, median, standard deviation, etc. It provides a snapshot of the data's key characteristics.\n",
        "\n",
        "Inferential statistics, on the other hand, uses sample data to draw conclusions and make predictions about a larger population. It involves techniques like hypothesis testing and confidence intervals.\n",
        "\n",
        "In simpler terms:\n",
        "\n",
        "* Descriptive statistics: describes the data you have.\n",
        "* Inferential statistics: uses that data to make generalizations or predictions about a larger group.\n",
        "\n",
        "\n"
      ],
      "metadata": {
        "id": "T0CbkOPl4YEI"
      }
    },
    {
      "cell_type": "markdown",
      "source": [
        "#3 What are descriptive statistics?\n",
        "Ans:\n",
        "\n",
        "Descriptive vs inferential statistics: an overview - Students 4 ...Descriptive statistics are used to summarize, organize, and describe the characteristics of a dataset in a meaningful way, without making inferences about a larger population. They focus on presenting the main features of the data through measures of central tendency, variability, and distribution shape.\n",
        "\n",
        "Key aspects of descriptive statistics:\n",
        "\n",
        "1. Summarization:\n",
        "Descriptive statistics condense large datasets into simpler, more manageable forms, such as tables, charts, and summary statistics.\n",
        "\n",
        "2. Description:\n",
        "They describe the characteristics of the data, including measures of central tendency (mean, median, mode), measures of variability (range, variance, standard deviation), and shape of the distribution (skewness, kurtosis).\n",
        "\n",
        "3. Purpose:\n",
        "The primary goal is to provide a clear and concise summary of the data, enabling researchers to understand patterns, trends, and distributions within the dataset.\n",
        "\n",
        "4. No Inference:\n",
        "Unlike inferential statistics, descriptive statistics do not draw conclusions or make generalizations about a larger population based on the sample data.\n",
        "\n",
        "\n",
        "Examples of descriptive statistics:\n",
        "\n",
        "1. Measures of Central Tendency:\n",
        "* Mean: The average of a dataset.\n",
        "* Median: The middle value in a sorted dataset.\n",
        "* Mode: The most frequent value in a dataset.\n",
        "\n",
        "2. Measures of Variability:\n",
        "* Range: The difference between the highest and lowest values.\n",
        "* Variance: A measure of how spread out the data is.\n",
        "* Standard Deviation: The square root of the variance, also indicating spread.\n",
        "\n",
        "3. Other Measures:\n",
        "* Frequency: How often a particular value occurs.\n",
        "* Percentiles and Quartiles: Dividing the data into sections to show position.\n",
        "* Graphical Representations: Histograms, bar charts, pie charts, scatter plots, etc., are used to visualize the data."
      ],
      "metadata": {
        "id": "QZBb0EEY5TwH"
      }
    },
    {
      "cell_type": "markdown",
      "source": [
        "#4 What is inferential statistics?\n",
        "Ans:\n",
        "\n",
        "Inferential statistics uses sample data to draw conclusions and make predictions about a larger population. It's a way to generalize findings from a smaller group (the sample) to a broader group (the population). This involves using probability theory and statistical techniques to determine the reliability and validity of those generalizations.\n",
        "\n",
        "Here's a more detailed explanation:\n",
        "\n",
        "1. Purpose:\n",
        "Inferential statistics helps researchers answer questions about a population when it's impractical or impossible to study every individual.\n",
        "\n",
        "2. Key Concepts:\n",
        "* Sample: A subset of the population that is studied.\n",
        "* Population: The entire group of individuals or items of interest.\n",
        "* Inference: Drawing conclusions about the population based on the sample data.\n",
        "\n",
        "3. Methods:\n",
        "Inferential statistics uses various techniques like:\n",
        "* Hypothesis testing: Determining if observed differences or relationships in the sample data are statistically significant and likely to exist in the population.\n",
        "* Confidence intervals: Providing a range of values that is likely to contain the true population parameter.\n",
        "* Regression analysis: Modeling the relationship between variables and making predictions.\n",
        "\n",
        "4. Examples:\n",
        "* Polling: Surveying a sample of voters to predict the outcome of an election.\n",
        "* Medical trials: Studying a sample of patients to determine the effectiveness of a new drug on the wider population.\n",
        "* Quality control: Analyzing a sample of manufactured products to assess the quality of the entire production batch.\n",
        "\n",
        "Importance:\n",
        "Inferential statistics is crucial for making informed decisions, drawing valid conclusions, and generalizing research findings beyond the specific sample studied.\n"
      ],
      "metadata": {
        "id": "ZyYW62N-6AR6"
      }
    },
    {
      "cell_type": "markdown",
      "source": [
        "#5 What is sampling in statistics?\n",
        "Ans:\n",
        "\n",
        "In statistics, sampling is the process of selecting a subset of individuals or data points from a larger population to study and draw conclusions about the entire population. It's a practical way to gather information when examining the whole population is infeasible, too expensive, or time-consuming.\n",
        "\n",
        "Here's a more detailed explanation:\n",
        "\n",
        "Why sample?\n",
        "1. Feasibility:\n",
        "Studying the entire population is often impossible or impractical due to time, cost, or resource constraints.\n",
        "\n",
        "2. Efficiency:\n",
        "Sampling allows researchers to gather data from a smaller group, making the process faster and more manageable.\n",
        "\n",
        "3. Accuracy:\n",
        "If done correctly, a sample can accurately represent the characteristics of the larger population, allowing for reliable inferences.\n",
        "\n",
        "* Key aspects of sampling:\n",
        "\n",
        "1. Population: The entire group of individuals or items that the researcher is interested in studying.\n",
        "2. Sample: A subset of the population that is selected for analysis.\n",
        "3. Sampling methods: Different techniques for selecting a sample, such as random sampling, stratified sampling, or convenience sampling.\n",
        "4. Sample size: The number of individuals or data points included in the sample.\n",
        "\n",
        "Types of sampling:\n",
        "\n",
        "* Probability sampling:\n",
        "Each member of the population has a known chance of being selected for the sample, ensuring a more representative sample.\n",
        "\n",
        "* Non-probability sampling:\n",
        "Selection is based on convenience or other criteria, which may introduce bias."
      ],
      "metadata": {
        "id": "Em2-tJyu7sxb"
      }
    },
    {
      "cell_type": "markdown",
      "source": [
        "#6  What are the different types of sampling methods?\n",
        "Ans:\n",
        "\n",
        "Sampling methods can be broadly categorized into probability (or random) sampling and non-probability (or non-random) sampling. Within each category, there are several specific techniques.\n",
        "\n",
        "* Probability Sampling Methods:\n",
        "\n",
        "1. Simple Random Sampling:\n",
        "Every member of the population has an equal and random chance of being selected.\n",
        "\n",
        "2. Stratified Sampling:\n",
        "The population is divided into subgroups (strata), and then random samples are drawn from each stratum.\n",
        "\n",
        "3. Cluster Sampling:\n",
        "The population is divided into clusters, and then some clusters are randomly selected, with all individuals within those clusters being included in the sample.\n",
        "\n",
        "4. Systematic Sampling:\n",
        "A random starting point is selected, and then every k-th element is chosen for the sample.\n",
        "\n",
        "* Non-Probability Sampling Methods:\n",
        "\n",
        "1. Convenience Sampling:\n",
        "Individuals are selected based on their ease of accessibility.\n",
        "\n",
        "2. Quota Sampling:\n",
        "The population is divided into subgroups, and then a predetermined number of individuals (a quota) are selected from each subgroup.\n",
        "\n",
        "3. Purposive Sampling:\n",
        "Individuals are selected based on specific characteristics or criteria relevant to the research question.\n",
        "\n",
        "4. Snowball Sampling:\n",
        "Existing participants are asked to refer other potential participants, often used when studying hard-to-reach populations.\n",
        "\n",
        "\n",
        "\n"
      ],
      "metadata": {
        "id": "Iwk7hmMb8V4Z"
      }
    },
    {
      "cell_type": "markdown",
      "source": [
        "#7 What is the difference between random and non-random sampling?\n",
        "Ans:\n",
        "\n",
        "Random and non-random sampling are two main approaches to selecting a sample from a population for research or analysis. The key difference lies in the selection process: random sampling uses chance to ensure each member has an equal opportunity of being selected, while non-random sampling uses criteria like convenience, judgment, or specific researcher choices.  \n",
        "\n",
        "* Random Sampling:\n",
        "\n",
        "1. Definition:\n",
        "Random sampling involves selecting individuals from a population in such a way that each member has a known and equal probability of being chosen.\n",
        "\n",
        "2. Example:\n",
        "Drawing names from a hat, or using a random number generator to select participants.\n",
        "\n",
        "3. Benefits:\n",
        "Minimizes bias, provides a representative sample, and allows for statistical inference about the population.\n",
        "\n",
        "4. Methods:\n",
        "Includes techniques like simple random sampling, stratified random sampling, cluster sampling, and systematic sampling.\n",
        "\n",
        "5. Limitations:\n",
        "Can be time-consuming and expensive, and may not always be feasible, especially if the population is difficult to define or access.\n",
        "\n",
        "* Non-Random Sampling:\n",
        "\n",
        "1. Definition:\n",
        "Non-random sampling involves selecting individuals based on specific criteria, convenience, or the researcher's judgment.\n",
        "\n",
        "2. Example:\n",
        "Conducting a survey at a mall, interviewing people who are available, or selecting experts in a particular field.\n",
        "\n",
        "\n",
        "3. Benefits:\n",
        "Often faster and cheaper than random sampling, can be useful for exploratory studies, and may be necessary when access to a full population is limited.\n",
        "\n",
        "4. Methods:\n",
        "Includes techniques like convenience sampling, purposive sampling, quota sampling, and snowball sampling.\n",
        "\n",
        "5. Limitations:\n",
        "May introduce bias, can't generalize findings to the larger population, and may not be suitable for conclusive research.\n",
        "\n",
        "\n",
        "\n"
      ],
      "metadata": {
        "id": "RoVgu_bZD8l8"
      }
    },
    {
      "cell_type": "markdown",
      "source": [
        "#8 Define and give examples of qualitative and quantitative data?\n",
        "Ans:\n",
        "\n",
        "Qualitative data describes qualities or characteristics that can't be measured numerically, while quantitative data describes quantities that can be measured numerically.\n",
        "\n",
        "* Qualitative Data:\n",
        "1. Definition: Information that is not expressed numerically and is often used to understand the qualities, characteristics, or meanings behind something.\n",
        "\n",
        "2. Examples:\n",
        "* The color of a flower (red, blue, yellow).\n",
        "* The taste of an apple (sweet, tart, acidic).\n",
        "* A person's opinion on a product (positive, negative, neutral).\n",
        "* Ethnographic observations (describing cultural practices).\n",
        "\n",
        "3. Data Collection Methods: Interviews, focus groups, observations, document analysis.\n",
        "\n",
        "\n",
        "* Quantitative Data:\n",
        "1. Definition: Information that can be expressed numerically and is used to measure or count things.\n",
        "\n",
        "2. Examples:\n",
        "* Height (in inches or centimeters).\n",
        "* Weight (in pounds or kilograms).\n",
        "* Age (in years).\n",
        "* The number of students in a class.\n",
        "\n",
        "3. Data Collection Methods: Surveys, experiments, statistical data collection.\n",
        "\n",
        "\n"
      ],
      "metadata": {
        "id": "Mcsw-cb6Ev5u"
      }
    },
    {
      "cell_type": "markdown",
      "source": [
        "#9 What are the different types of data in statistics?\n",
        "Ans:\n",
        "\n",
        "In statistics, data is broadly classified into qualitative (or categorical) and quantitative (or numerical). These categories are further divided into sub-types. Qualitative data includes nominal and ordinal data, while quantitative data includes discrete and continuous data.\n",
        "\n",
        "Here's a more detailed breakdown:\n",
        "\n",
        "1. 1. Qualitative (Categorical) Data:\n",
        "\n",
        "* Nominal Data:\n",
        "This type of data represents categories without any inherent order or ranking. Examples include colors (red, blue, green), types of fruit (apple, banana, orange), or gender (male, female).\n",
        "\n",
        "* Ordinal Data:\n",
        "This data represents categories with a meaningful order or ranking, but the differences between the categories may not be quantifiable. Examples include education levels (high school, bachelor's, master's), or customer satisfaction ratings (very dissatisfied, dissatisfied, neutral, satisfied, very satisfied).\n",
        "\n",
        "2. Quantitative (Numerical) Data:\n",
        "\n",
        "* Discrete Data:\n",
        "This data can only take on specific, separate values, usually whole numbers, and often represents counts. Examples include the number of students in a class, the number of cars\n",
        "\n",
        "Continuous Data:\n",
        "This data can take on any value within a given range, and often involves measurements. Examples include height, weight, temperature, or the time it takes to complete a task."
      ],
      "metadata": {
        "id": "V4NFhbGIFYVz"
      }
    },
    {
      "cell_type": "markdown",
      "source": [
        "#10 Explain nominal, ordinal, interval, and ratio levels of measurement?\n",
        "Ans:\n",
        "\n",
        "Levels of Measurement: Nominal, Ordinal, Interval and RatioThe four levels of measurement, from least to most sophisticated, are nominal, ordinal, interval, and ratio. These levels indicate the properties and mathematical operations that can be meaningfully applied to data.\n",
        "\n",
        "Here's a breakdown of each level:\n",
        "\n",
        "1. Nominal:\n",
        "* Definition: Data is categorized into groups or classes without any inherent order or ranking.\n",
        "* Examples: Colors (red, blue, green), types of fruit (apple, banana, orange), or gender (male, female).\n",
        "* Operations: Counting the frequency of each category and calculating mode.\n",
        "* Key characteristic: Categories are mutually exclusive and exhaustive.\n",
        "\n",
        "\n",
        "2. Ordinal:\n",
        "* Definition: Data can be categorized and also ranked or ordered.\n",
        "* Examples: Education level (high school, bachelor's, master's), customer satisfaction (very dissatisfied, dissatisfied, neutral, satisfied, very satisfied), or movie rankings.\n",
        "* Operations: Can calculate median and percentiles in addition to mode and frequency.\n",
        "* Key characteristic: Order matters, but the difference between ranks is not necessarily equal or meaningful."
      ],
      "metadata": {
        "id": "S0_l_gXEF1kP"
      }
    },
    {
      "cell_type": "markdown",
      "source": [
        "#11 What is the measure of central tendency?\n",
        "Ans:\n",
        "\n",
        "A measure of central tendency is a single value that attempts to describe a set of data by identifying the central position within that set of data. It's a way to summarize a dataset with a representative value that indicates where the \"middle\" or \"center\" of the data lies. The three most common measures of central tendency are the mean, median, and mode.\n",
        "\n",
        "Here's a breakdown of each:\n",
        "\n",
        "1. Mean:\n",
        "The average of a dataset, calculated by summing all values and dividing by the number of values.\n",
        "\n",
        "2. Median:\n",
        "The middle value in a dataset when the values are arranged in order.\n",
        "\n",
        "3. Mode:\n",
        "The value that appears most frequently in a dataset.\n",
        "\n",
        "Each measure of central tendency provides a different perspective on the \"center\" of the data, and the most appropriate measure to use depends on the specific characteristics of the dataset and the purpose of the analysis. For example, the mean is sensitive to outliers (extreme values), while the median is not."
      ],
      "metadata": {
        "id": "i1Dzc4ilGTgG"
      }
    },
    {
      "cell_type": "markdown",
      "source": [
        "#12 Define mean, median, and mode?\n",
        "Ans:\n",
        "\n",
        "Mean, Median, Mode - GCSE Maths - Steps, Examples & WorksheetMean, median, and mode are all measures of central tendency in a set of data. The mean is the average of the numbers, calculated by summing them and dividing by the count. The median is the middle value when the data is ordered, and the mode is the value that appears most frequently.\n",
        "\n",
        "Here's a more detailed explanation:\n",
        "\n",
        "1. Mean:\n",
        "The mean is the most common type of average. It's found by adding all the values in a dataset and then dividing by the total number of values. For example, the mean of the numbers 2, 4, and 6 is (2 + 4 + 6) / 3 = 4.\n",
        "\n",
        "2. Median:\n",
        "The median is the middle value in a dataset that has been arranged in ascending or descending order. If there's an even number of values, the median is the average of the two middle values. For example, in the dataset 2, 4, 6, 8, the median is (4 + 6) / 2 = 5. .\n",
        "\n",
        "3. Mode:\n",
        "The mode is the value that appears most often in a dataset. For example, in the dataset 2, 2, 4, 6, 8, the mode is 2.\n",
        "\n",
        "\n"
      ],
      "metadata": {
        "id": "xsZWnTA4Gx8L"
      }
    },
    {
      "cell_type": "markdown",
      "source": [
        "#13 What is the significance of the measure of central tendency?\n",
        "Ans:\n",
        "\n",
        "Measures of central tendency are crucial because they summarize a dataset with a single value that represents the \"typical\" or \"average\" value, making it easier to understand and compare data. They are fundamental in data analysis, providing a concise representation of a dataset's central location, helping identify patterns and making comparisons between different datasets.\n",
        "\n",
        "Here's a more detailed breakdown of their significance:\n",
        "\n",
        "1. Summarization and Simplification: Measures of central tendency condense large datasets into a single, representative value. This simplifies complex information, making it easier to grasp the overall characteristics of the data.\n",
        "\n",
        "2. Comparison: By providing a central value, these measures allow for easy comparison between different datasets or different points in time within the same dataset.\n",
        "\n",
        "3. Understanding Data Distribution: The different measures of central tendency (mean, median, mode) can reveal different aspects of the data's distribution. For instance, the mean is sensitive to outliers, while the median is more robust to them.\n",
        "\n",
        "4. Decision Making: Central tendency measures are used in various decision-making processes. For example, knowing the average salary of employees can help a company make decisions about salary adjustments.\n",
        "\n",
        "5. Identifying Outliers: These measures can help identify outliers or extreme values that might skew the data, potentially indicating errors or unusual occurrences.\n",
        "\n",
        "6. Forecasting and Planning: By analyzing trends in central tendency measures over time, businesses and organizations can make forecasts and plan resources effectively.\n",
        "\n",
        "In essence, measures of central tendency are powerful tools for summarizing, comparing, and understanding data, ultimately aiding in informed decision-making and strategic planning."
      ],
      "metadata": {
        "id": "KTMQoXo7HEkj"
      }
    },
    {
      "cell_type": "markdown",
      "source": [
        "#14 What is variance, and how is it calculated?\n",
        "Ans:\n",
        "\n",
        "Variance is a statistical measure that quantifies the amount of dispersion or variability within a set of data points. It essentially tells you how spread out the numbers are from their average value (mean). A higher variance indicates that the data points are more scattered, while a lower variance suggests they are clustered closer to the mean.\n",
        "\n",
        "Calculation:\n",
        "\n",
        "1. Calculate the mean: Sum all the data points and divide by the total number of points.\n",
        "\n",
        "2. Find the differences from the mean: Subtract the mean from each individual data point.\n",
        "\n",
        "3. Square the differences: Square each of the differences calculated in the previous step.\n",
        "\n",
        "4. Calculate the average of the squared differences: Sum all the squared differences and divide by the total number of data points (or, for a sample, divide by the number of data points minus one). This final result is the variance.\n",
        "\n",
        "In simpler terms:\n",
        "Variance = Average of the (squared differences from the mean)\n",
        "\n",
        "Example:\n",
        "Let's say we have the following data set: 2, 4, 4, 4, 5, 5, 7, 9.\n",
        "Mean: (2 + 4 + 4 + 4 + 5 + 5 + 7 + 9) / 8 = 40 / 8 = 5\n",
        "Differences from the mean:\n",
        "2 - 5 = -3\n",
        "4 - 5 = -1\n",
        "4 - 5 = -1\n",
        "4 - 5 = -1\n",
        "5 - 5 = 0\n",
        "5 - 5 = 0\n",
        "7 - 5 = 2\n",
        "9 - 5 = 4\n",
        "Squared differences:\n",
        "(-3)^2 = 9\n",
        "(-1)^2 = 1\n",
        "(-1)^2 = 1\n",
        "(-1)^2 = 1\n",
        "0^2 = 0\n",
        "0^2 = 0\n",
        "2^2 = 4\n",
        "4^2 = 16\n",
        "Average of squared differences (Variance): (9 + 1 + 1 + 1 + 0 + 0 + 4 + 16) / 8 = 32 / 8 = 4\n",
        "Therefore, the variance of this data set is 4."
      ],
      "metadata": {
        "id": "GON3N_90MOXV"
      }
    },
    {
      "cell_type": "markdown",
      "source": [
        "#15 What is standard deviation, and why is it important?\n",
        "Ans:\n",
        "\n",
        "Standard deviation is a statistical measure that quantifies the amount of variation or dispersion of a set of values from its mean (average). It's essentially a measure of how spread out the data is. A low standard deviation indicates that the data points tend to be close to the mean, while a high standard deviation suggests that the data points are scattered over a wider range of values. It's important because it helps understand the reliability of the mean, identify outliers, and assess risk in various fields.\n",
        "\n",
        "Here's a more detailed explanation:\n",
        "\n",
        "* Measure of Spread:\n",
        "Standard deviation tells you, on average, how far each value in a dataset is from the mean.\n",
        "* Relates to the Mean:\n",
        "It's calculated based on the mean, and it describes how the data is distributed around that central point.\n",
        "* Square Root of Variance:\n",
        "It's the square root of the variance, which is the average of the squared differences from the mean.\n",
        "\n",
        "\n",
        "Why it's important:\n",
        "\n",
        "1. Understanding Data Distribution:\n",
        "Standard deviation helps visualize how data is clustered or spread out.\n",
        "2. Reliability of the Mean:\n",
        "A low standard deviation suggests the mean is a good representation of the data, while a high standard deviation indicates more variability and the mean might not be as representative.\n",
        "3. Identifying Outliers:\n",
        "Data points significantly far from the mean (often beyond two or three standard deviations) can be considered outliers.\n",
        "4. Risk Assessment:\n",
        "In finance and other fields, standard deviation is used to measure volatility and assess risk associated with investments or other outcomes.\n",
        "5. Quality Control:\n",
        "In manufacturing, it helps monitor consistency in product dimensions or other characteristics, identifying potential issues with quality.\n",
        "6. Decision Making:\n",
        "Standard deviation provides valuable insights for making informed decisions in various contexts, from scientific research to business strategies.\n"
      ],
      "metadata": {
        "id": "Buw5IZJeNJ0A"
      }
    },
    {
      "cell_type": "markdown",
      "source": [
        "#16 Define and explain the term range in statistics?\n",
        "Ans:\n",
        "\n",
        "Range in Statistics - GeeksforGeeksIn statistics, the range is a simple measure of variability that represents the difference between the highest and lowest values in a dataset. It provides a quick overview of the spread or dispersion of the data.\n",
        "\n",
        "Definition and Calculation:\n",
        "* Definition: The range is the difference between the maximum and minimum values within a dataset.\n",
        "\n",
        "* Calculation: Range = Highest Value - Lowest Value.\n",
        "\n",
        "Example:\n",
        "If a dataset contains the values {2, 4, 6, 8, 12}, the range would be calculated as:\n",
        "Code\n",
        "\n",
        "Range = 12 - 2 = 10\n",
        "\n",
        "\n",
        "* Significance:\n",
        "1. Spread of data: The range provides a general idea of how spread out the data points are.\n",
        "2. Easy to calculate: It is one of the simplest measures of variability to calculate.\n",
        "3. Limitations: The range is sensitive to outliers (extreme values) and can be misleading if the dataset has a small number of values.\n",
        "\n",
        "In essence, the range gives you a quick understanding of the overall spread of your data by focusing on the extremes. However, it's important to consider other measures of variability like standard deviation or interquartile range for a more comprehensive understanding, especially when outliers are present."
      ],
      "metadata": {
        "id": "cvZZUhnzNuqz"
      }
    },
    {
      "cell_type": "markdown",
      "source": [
        "#17 What is the difference between variance and standard deviation?\n",
        "Ans:\n",
        "\n",
        "Variance and standard deviation are both measures of data dispersion, but standard deviation is the square root of the variance. Variance quantifies the average squared difference of data points from the mean, while standard deviation represents the spread of data around the mean, expressed in the same units as the original data.\n",
        "\n",
        "Here's a more detailed breakdown:\n",
        "\n",
        "* Variance:\n",
        "\n",
        "1. Measures the average degree to which each point in a data set differs from the mean.\n",
        "\n",
        "2. Calculated by squaring the differences between each data point and the mean, summing these squared differences, and then dividing by the number of data points (or number of data points minus one for a sample).\n",
        "\n",
        "3. Results in a value expressed in squared units, which can make it difficult to interpret directly.\n",
        "\n",
        "* Standard Deviation:\n",
        "\n",
        "1. The square root of the variance.\n",
        "\n",
        "2. Represents the typical distance of data points from the mean.\n",
        "\n",
        "3. Expressed in the same units as the original data, making it more intuitive to understand the spread of the data.\n",
        "\n",
        "In essence:\n",
        "\n",
        "* Variance gives you a sense of the overall variability in a dataset, while * standard deviation provides a more directly interpretable measure of how spread out the data is.\n",
        "\n",
        "* Standard deviation is often preferred for its interpretability, but variance is a crucial step in its calculation and is also used in statistical tests."
      ],
      "metadata": {
        "id": "HMlK5D1MOLbF"
      }
    },
    {
      "cell_type": "markdown",
      "source": [
        "#18 What is skewness in a dataset?\n",
        "Ans:\n",
        "\n",
        "study notes: Handling Skewed data for Machine Learning models ...Skewness in a dataset refers to the measure of the asymmetry or lack of symmetry in the distribution of data points around its mean. It indicates whether the data is concentrated more on one side of the mean than the other. A dataset can be skewed to the left (negative skew), to the right (positive skew), or be symmetrical (zero skew).\n",
        "\n",
        "\n",
        "Here's a more detailed explanation:\n",
        "\n",
        "1. Symmetrical Distribution:\n",
        "In a perfectly symmetrical distribution, like a normal distribution, the mean, median, and mode are all the same, and the data is evenly distributed around the mean.\n",
        "\n",
        "2. Positive Skew (Right Skew):\n",
        "A positively skewed distribution has a longer tail on the right side. This means the mean is greater than the median, which is also greater than the mode. The extreme values are stretched towards the right\n",
        "\n",
        "3. Negative Skew (Left Skew):\n",
        "A negatively skewed distribution has a longer tail on the left side. In this case, the mean is less than the median, which is less than the mode. The extreme values are stretched towards the left.\n",
        "\n",
        "4. Understanding Skewness:\n",
        "Skewness helps data scientists and analysts understand the shape of the data distribution and identify potential biases or anomalies. It's a crucial concept for selecting appropriate statistical models and interpreting results."
      ],
      "metadata": {
        "id": "0BTVrmtvPVW2"
      }
    },
    {
      "cell_type": "markdown",
      "source": [
        "#19 What does it mean if a dataset is positively or negatively skewed?\n",
        "Ans:\n",
        "\n",
        "In statistics, skewness describes the asymmetry of a data distribution. A positively skewed distribution has a longer tail on the right side, meaning most values are clustered on the left with a few high outliers. Conversely, a negatively skewed distribution has a longer tail on the left, with most values clustered on the right and some low outliers.\n",
        "\n",
        "* Positive Skew (Right Skew):\n",
        "\n",
        "1. Tail: Extends to the right (positive direction).\n",
        "\n",
        "2. Mean, Median, and Mode: In a positively skewed distribution, the mean is typically greater than the median, which is greater than the mode (Mean > Median > Mode).\n",
        "\n",
        "3. Example: A test with mostly low scores and a few very high scores.\n",
        "\n",
        "* Negative Skew (Left Skew):\n",
        "1. Tail: Extends to the left (negative direction).\n",
        "\n",
        "2. Mean, Median, and Mode: In a negatively skewed distribution, the mean is typically less than the median, which is less than the mode (Mean < Median < Mode).\n",
        "\n",
        "3. Example: A test with mostly high scores and a few very low scores.\n",
        "\n",
        "* Visualizing Skewness:\n",
        "Imagine a histogram. In a positively skewed distribution, the histogram's tail will be longer on the right side, while in a negatively skewed distribution, the tail will be longer on the left side."
      ],
      "metadata": {
        "id": "ms7vVqW6QzOz"
      }
    },
    {
      "cell_type": "markdown",
      "source": [
        "#20 Define and explain kurtosis?\n",
        "Ans:\n",
        "\n",
        "Kurtosis is a statistical measure used to describe a characteristic of a dataset. It generally takes the form of a bell when normally distributed data is plotted on a graph. This is called the bell curve. The plotted data that are farthest from the mean of the data usually form the tails on each side of the curve. Kurtosis indicates how much data resides in the tails.\n",
        "\n",
        "1. Kurtosis describes the “fatness” of the tails found in probability distributions.\n",
        "\n",
        "2. There are three kurtosis categories: mesokurtic (normal), platykurtic (less than normal), and leptokurtic (more than normal).\n",
        "\n",
        "3. Kurtosis risk is a measurement of how often an investment’s price moves dramatically.\n",
        "\n",
        "4. A curve’s kurtosis characteristic tells you how much kurtosis risk there is for the investment you’re evaluating."
      ],
      "metadata": {
        "id": "WVzuNUldRWln"
      }
    },
    {
      "cell_type": "markdown",
      "source": [
        "#21 What is the purpose of covariance?\n",
        "Ans:\n",
        "\n",
        "Covariance is a statistical tool that measures the directional relationship between the returns on two assets. A positive covariance means asset returns move together, while a negative covariance means they move inversely. Covariance is calculated by analyzing standard deviations from the expected return or multiplying the correlation between the two random variables by the standard deviation of each variable.\n",
        "\n",
        "* Covariance is calculates the relationship between two random variables.\n",
        "\n",
        "* When two stocks tend to move together, they are seen as having a positive covariance; when they move inversely, the covariance is negative.\n",
        "\n",
        "* Covariance is different from the correlation coefficient, a measure of the strength of a correlative relationship.\n",
        "\n",
        "* Covariance is an important tool in modern portfolio theory (MPT) for determining what securities to put in a portfolio..\n",
        "\n",
        "* Risk and volatility can be reduced in a portfolio by pairing assets that have a negative covariance."
      ],
      "metadata": {
        "id": "iqC5vfJGRo1w"
      }
    },
    {
      "cell_type": "markdown",
      "source": [
        "#22 What does correlation measure in statistics?\n",
        "Ans:\n",
        "\n",
        "In statistics, correlation measures the strength and direction of a relationship between two variables. It indicates how much the variables change together, and whether that change is in the same (positive) or opposite (negative) direction. A correlation coefficient, typically represented by 'r', quantifies this relationship.\n",
        "\n",
        "Here's a more detailed explanation:\n",
        "\n",
        "1. Direction:\n",
        "Correlation can be positive, negative, or zero.\n",
        "* Positive correlation: When one variable increases, the other also tends to increase (e.g., height and weight).\n",
        "\n",
        "* Negative correlation: When one variable increases, the other tends to decrease (e.g., temperature and heating cost).\n",
        "\n",
        "* Zero correlation: There is no apparent relationship between the variables.\n",
        "\n",
        "2. Strength:\n",
        "The correlation coefficient (r) ranges from -1 to +1.\n",
        "\n",
        "* Strong correlation: An 'r' close to +1 or -1 indicates a strong relationship.\n",
        "\n",
        "* Weak correlation: An 'r' close to 0 indicates a weak relationship.\n",
        "\n",
        "\n",
        "Correlation does not imply causation. Just because two variables are correlated does not mean that one causes the other to change. There could be other factors influencing the relationship, or it could be a coincidence."
      ],
      "metadata": {
        "id": "hylAsPMLSFJA"
      }
    },
    {
      "cell_type": "markdown",
      "source": [
        "#23  What is the difference between covariance and correlation?\n",
        "Ans:\n",
        "\n",
        "Correlation vs Covariance – All You Need To KnowCovariance and correlation both measure the relationship between two variables, but they differ in how they represent the strength and scale of that relationship. Covariance indicates the direction of the relationship (positive or negative), while correlation also indicates the strength of that relationship and is standardized to a range between -1 and +1.\n",
        "\n",
        "Here's a more detailed breakdown:\n",
        "\n",
        "1. Covariance:\n",
        "\n",
        "* Definition: Measures the extent to which two variables change together. A positive covariance indicates that when one variable increases, the other tends to increase as well, and vice versa for negative covariance.\n",
        "\n",
        "* Range: Can range from negative infinity to positive infinity (-∞ to +∞).\n",
        "\n",
        "* Limitations: Covariance is affected by the scale of the variables. If you change the units of measurement (e.g., from kilograms to grams), the covariance value will change.\n",
        "\n",
        "2. Correlation:\n",
        "\n",
        "* Definition: A standardized measure of the linear relationship between two variables. It not only indicates the direction of the relationship (positive or negative) but also its strength.\n",
        "\n",
        "* Range: Always falls between -1 and +1 (-1 to +1). .\n",
        "\n",
        "* Benefits: Correlation is easier to interpret than covariance because it is standardized. A correlation of +1 indicates a perfect positive linear relationship, -1 indicates a perfect negative linear relationship, and 0 indicates no linear relationship.\n",
        "\n",
        "* Scale-independent: Correlation is not affected by changes in the scale of the variables.\n",
        "\n",
        "In essence:\n",
        "\n",
        "* Covariance tells you if two variables change together and in which direction (positive or negative).\n",
        "\n",
        "* Correlation tells you how strongly two variables are related and in which direction."
      ],
      "metadata": {
        "id": "QYuosFOySlpB"
      }
    },
    {
      "cell_type": "markdown",
      "source": [
        "#24 What are some real-world applications of statistics?\n",
        "Ans:\n",
        "\n",
        "Statistics are used in a wide variety of fields to analyze data, identify trends, and make informed decisions. Some examples include:\n",
        "\n",
        "1. Business:\n",
        "Analyzing sales data, market trends, and customer behavior.\n",
        "\n",
        "2. Healthcare:\n",
        "Conducting clinical trials, analyzing patient data, and understanding disease patterns.\n",
        "\n",
        "3. Finance:\n",
        "Assessing investment risks, predicting market fluctuations, and developing financial models.\n",
        "\n",
        "4. Government:\n",
        "Analyzing census data, tracking crime rates, and evaluating the effectiveness of policies.\n",
        "\n",
        "5. Education:\n",
        "Evaluating student performance, determining the effectiveness of teaching methods, and tracking graduation rates.\n",
        "\n",
        "6. Sports:\n",
        "Analyzing player statistics, predicting game outcomes, and evaluating team performance.\n",
        "\n",
        "7. Environmental Science:\n",
        "Monitoring pollution levels, tracking climate change trends, and assessing the impact of natural disasters.\n",
        "\n",
        "\n",
        "In addition, statistics are used in many other fields, including:\n",
        "\n",
        "* Quality Control:\n",
        "Monitoring manufacturing processes, identifying defects, and ensuring product quality.\n",
        "\n",
        "* Market Research:\n",
        "Identifying consumer preferences, understanding market segments, and developing marketing strategies.\n",
        "\n",
        "* Insurance:\n",
        "Assessing risk, determining premiums, and managing claims.\n",
        "\n",
        "* Sociology and Psychology:\n",
        "Analyzing survey data, understanding social trends, and researching human behavior.\n",
        "\n",
        "\n"
      ],
      "metadata": {
        "id": "Wq0P8SI1T8Iu"
      }
    },
    {
      "cell_type": "markdown",
      "source": [
        "****************************** Practical Question ******************************"
      ],
      "metadata": {
        "id": "UcaqKFvmWe9c"
      }
    },
    {
      "cell_type": "code",
      "source": [
        "#1 How do you calculate the mean, median, and mode of a dataset\n",
        "\n",
        "\n",
        "import numpy as np\n",
        "from scipy import stats\n",
        "\n",
        "dataset = [4, 8, 6, 5, 3, 7, 4]\n",
        "mode_result = stats.mode(dataset, keepdims=True)\n",
        "\n",
        "mean = np.mean(dataset)\n",
        "median = np.median(dataset)\n",
        "\n",
        "\n",
        "print(\"Mean:\", mean)\n",
        "print(\"Median:\", median)\n",
        "print(\"Mode:\", mode_result.mode[0])\n",
        "print(\"Mode count:\", mode_result.count[0])"
      ],
      "metadata": {
        "colab": {
          "base_uri": "https://localhost:8080/"
        },
        "id": "M-8XRwOGUAjH",
        "outputId": "9bb29f44-54fa-4d31-8aed-500913862151"
      },
      "execution_count": 2,
      "outputs": [
        {
          "output_type": "stream",
          "name": "stdout",
          "text": [
            "Mean: 5.285714285714286\n",
            "Median: 5.0\n",
            "Mode: 4\n",
            "Mode count: 2\n"
          ]
        }
      ]
    },
    {
      "cell_type": "code",
      "source": [
        "#2 Write a Python program to compute the variance and standard deviation of a dataset?\n",
        "\n",
        "import statistics\n",
        "import numpy as np\n",
        "\n",
        "\n",
        "data = [8, 10, 6, 9, 6, 7, 4]\n",
        "\n",
        "# --- Using statistics module ---\n",
        "variance_stats = statistics.variance(data)\n",
        "stdev_stats = statistics.stdev(data)\n",
        "\n",
        "# --- Using numpy ---\n",
        "variance_np = np.var(data, ddof=1)  # ddof=1 for sample variance\n",
        "stdev_np = np.std(data, ddof=1)     # ddof=1 for sample std deviation\n",
        "\n",
        "# Output\n",
        "print(\"Using statistics module:\")\n",
        "print(\"Variance:\", variance_stats)\n",
        "print(\"Standard Deviation:\", stdev_stats)\n",
        "\n",
        "print(\"\\nUsing numpy:\")\n",
        "print(\"Variance:\", variance_np)\n",
        "print(\"Standard Deviation:\", stdev_np)"
      ],
      "metadata": {
        "colab": {
          "base_uri": "https://localhost:8080/"
        },
        "id": "85moV__hWLaf",
        "outputId": "3e756550-42d6-4909-f059-a87b6c8ab955"
      },
      "execution_count": 3,
      "outputs": [
        {
          "output_type": "stream",
          "name": "stdout",
          "text": [
            "Using statistics module:\n",
            "Variance: 4.142857142857143\n",
            "Standard Deviation: 2.0354009783964297\n",
            "\n",
            "Using numpy:\n",
            "Variance: 4.142857142857143\n",
            "Standard Deviation: 2.0354009783964297\n"
          ]
        }
      ]
    },
    {
      "cell_type": "code",
      "source": [
        "#3 Create a dataset and classify it into nominal, ordinal, interval, and ratio types?\n",
        "\n",
        "import pandas as pd\n",
        "\n",
        "# Sample dataset\n",
        "data = {\n",
        "    'Student_ID': [101, 102, 103, 104],\n",
        "    'Name': ['Aditi', 'Rahul', 'Sneha', 'Arjun'],\n",
        "    'Gender': ['Female', 'Male', 'Female', 'Male'],\n",
        "    'Grade_Level': ['9th', '10th', '11th', '12th'],\n",
        "    'Test_Score': [88, 72, 91, 65],\n",
        "    'Temperature_C': [36.5, 37.2, 36.9, 37.0],\n",
        "    'Height_cm': [160, 175, 168, 170]\n",
        "}\n",
        "\n",
        "# Create DataFrame\n",
        "df = pd.DataFrame(data)\n",
        "\n",
        "# Display dataset\n",
        "print(\"Dataset:\\n\", df)\n",
        "\n",
        "# Classification of data types\n",
        "classification = {\n",
        "    'Student_ID': 'Nominal',\n",
        "    'Name': 'Nominal',\n",
        "    'Gender': 'Nominal',\n",
        "    'Grade_Level': 'Ordinal',\n",
        "    'Test_Score': 'Interval',\n",
        "    'Temperature_C': 'Interval',\n",
        "    'Height_cm': 'Ratio'\n",
        "}\n",
        "\n",
        "# Display classification\n",
        "print(\"\\nData Type Classification:\")\n",
        "for column, dtype in classification.items():\n",
        "    print(f\"{column}: {dtype}\")"
      ],
      "metadata": {
        "colab": {
          "base_uri": "https://localhost:8080/"
        },
        "id": "fqtQlAgLXBzN",
        "outputId": "2ae7f824-0c1a-4d5d-ca72-8f01ffe52e66"
      },
      "execution_count": 4,
      "outputs": [
        {
          "output_type": "stream",
          "name": "stdout",
          "text": [
            "Dataset:\n",
            "    Student_ID   Name  Gender Grade_Level  Test_Score  Temperature_C  Height_cm\n",
            "0         101  Aditi  Female         9th          88           36.5        160\n",
            "1         102  Rahul    Male        10th          72           37.2        175\n",
            "2         103  Sneha  Female        11th          91           36.9        168\n",
            "3         104  Arjun    Male        12th          65           37.0        170\n",
            "\n",
            "Data Type Classification:\n",
            "Student_ID: Nominal\n",
            "Name: Nominal\n",
            "Gender: Nominal\n",
            "Grade_Level: Ordinal\n",
            "Test_Score: Interval\n",
            "Temperature_C: Interval\n",
            "Height_cm: Ratio\n"
          ]
        }
      ]
    },
    {
      "cell_type": "code",
      "source": [
        "#4  Implement sampling techniques like random sampling and stratified sampling?\n",
        "\n",
        "\n",
        "import pandas as pd\n",
        "\n",
        "from sklearn.model_selection import train_test_split\n",
        "\n",
        "\n",
        "# Create a simple dataset\n",
        "data = {\n",
        "    'ID': range(1, 21),\n",
        "    'Name': [f'Student{i}' for i in range(1, 21)],\n",
        "    'Gender': ['Male', 'Female'] * 10,\n",
        "    'Grade': ['9th', '10th', '11th', '12th'] * 5,\n",
        "    'Marks': [78, 55, 89, 67, 90, 45, 88, 56, 76, 85, 92, 66, 79, 61, 74, 80, 59, 82, 70, 69]\n",
        "}\n",
        "\n",
        "df = pd.DataFrame(data)\n",
        "print(\"Original Dataset:\\n\", df.head())\n",
        "\n",
        "# Simple Random Sampling (e.g., 5 random students)\n",
        "random_sample = df.sample(n=5, random_state=1)\n",
        "print(\"\\nRandom Sample:\\n\", random_sample)\n",
        "\n",
        "\n",
        "\n",
        "# Stratified sampling based on 'Gender'\n",
        "stratified_sample, _ = train_test_split(df,\n",
        "                                        test_size=0.75,\n",
        "                                        stratify=df['Gender'],\n",
        "                                        random_state=42)\n",
        "\n",
        "print(\"\\nStratified Sample (by Gender):\\n\", stratified_sample)"
      ],
      "metadata": {
        "colab": {
          "base_uri": "https://localhost:8080/"
        },
        "id": "Oph7l7L2XjU9",
        "outputId": "c2fa55e9-f8fb-4aa3-c5b1-802fcf0777e3"
      },
      "execution_count": 5,
      "outputs": [
        {
          "output_type": "stream",
          "name": "stdout",
          "text": [
            "Original Dataset:\n",
            "    ID      Name  Gender Grade  Marks\n",
            "0   1  Student1    Male   9th     78\n",
            "1   2  Student2  Female  10th     55\n",
            "2   3  Student3    Male  11th     89\n",
            "3   4  Student4  Female  12th     67\n",
            "4   5  Student5    Male   9th     90\n",
            "\n",
            "Random Sample:\n",
            "     ID       Name  Gender Grade  Marks\n",
            "3    4   Student4  Female  12th     67\n",
            "16  17  Student17    Male   9th     59\n",
            "6    7   Student7    Male  11th     88\n",
            "10  11  Student11    Male  11th     92\n",
            "2    3   Student3    Male  11th     89\n",
            "\n",
            "Stratified Sample (by Gender):\n",
            "     ID       Name  Gender Grade  Marks\n",
            "18  19  Student19    Male  11th     70\n",
            "0    1   Student1    Male   9th     78\n",
            "11  12  Student12  Female  12th     66\n",
            "12  13  Student13    Male   9th     79\n",
            "1    2   Student2  Female  10th     55\n"
          ]
        }
      ]
    },
    {
      "cell_type": "code",
      "source": [
        "#5 Write a Python function to calculate the range of a dataset?\n",
        "\n",
        "def calculate_range(data):\n",
        "\n",
        "    if not data:\n",
        "        return None  # Return None for empty list\n",
        "    return max(data) - min(data)\n",
        "\n",
        "# Example usage\n",
        "dataset = [8, 10, 6, 9, 6, 7, 4]\n",
        "result = calculate_range(dataset)\n",
        "print(\"Range of dataset:\", result)"
      ],
      "metadata": {
        "colab": {
          "base_uri": "https://localhost:8080/"
        },
        "id": "mtw0SSBmYD4t",
        "outputId": "1bbafd8b-977f-4cf2-d088-85eb380e8c69"
      },
      "execution_count": 6,
      "outputs": [
        {
          "output_type": "stream",
          "name": "stdout",
          "text": [
            "Range of dataset: 6\n"
          ]
        }
      ]
    },
    {
      "cell_type": "code",
      "source": [
        "#6 Create a dataset and plot its histogram to visualize skewness?\n",
        "\n",
        "import numpy as np\n",
        "import pandas as pd\n",
        "import matplotlib.pyplot as plt\n",
        "import seaborn as sns\n",
        "from scipy.stats import skew\n",
        "\n",
        "# Generate a right-skewed dataset using exponential distribution\n",
        "np.random.seed(42)\n",
        "data = np.random.exponential(scale=2, size=1000)\n",
        "\n",
        "# Create a DataFrame\n",
        "df = pd.DataFrame({'Values': data})\n",
        "\n",
        "# Calculate skewness\n",
        "data_skewness = skew(df['Values'])\n",
        "\n",
        "# Plot histogram\n",
        "plt.figure(figsize=(10, 6))\n",
        "sns.histplot(df['Values'], bins=30, kde=True, color='skyblue')\n",
        "plt.title(f'Histogram with Skewness = {data_skewness:.2f}')\n",
        "plt.xlabel('Value')\n",
        "plt.ylabel('Frequency')\n",
        "plt.grid(True)\n",
        "plt.show()"
      ],
      "metadata": {
        "colab": {
          "base_uri": "https://localhost:8080/",
          "height": 564
        },
        "id": "ScHlUEMNYZXf",
        "outputId": "3596c9f7-f83a-4b06-e4ba-1fc34b3a4165"
      },
      "execution_count": 9,
      "outputs": [
        {
          "output_type": "display_data",
          "data": {
            "text/plain": [
              "<Figure size 1000x600 with 1 Axes>"
            ],
            "image/png": "[encoded data removed]"
          },
          "metadata": {}
        }
      ]
    },
    {
      "cell_type": "code",
      "source": [
        "#7 Calculate skewness and kurtosis of a dataset using Python libraries?\n",
        "\n",
        "\n",
        "import numpy as np\n",
        "import pandas as pd\n",
        "from scipy.stats import skew, kurtosis\n",
        "\n",
        "# Create a dataset\n",
        "data = np.random.exponential(scale=2, size=1000)  # Right-skewed data\n",
        "\n",
        "# Calculate skewness\n",
        "skewness = skew(data)\n",
        "\n",
        "# Calculate kurtosis\n",
        "kurt = kurtosis(data)  # By default, this gives **excess kurtosis** (normal = 0)\n",
        "\n",
        "# Display results\n",
        "print(\"Skewness:\", skewness)\n",
        "print(\"Kurtosis (excess):\", kurt)\n",
        "print(\"Kurtosis (normal):\", kurt + 3)  # To get actual kurtosis"
      ],
      "metadata": {
        "colab": {
          "base_uri": "https://localhost:8080/"
        },
        "id": "9f_Xok4jYs11",
        "outputId": "13630a2c-948a-4d47-8694-90f09d189474"
      },
      "execution_count": 12,
      "outputs": [
        {
          "output_type": "stream",
          "name": "stdout",
          "text": [
            "Skewness: 1.629931376599227\n",
            "Kurtosis (excess): 2.97828716105282\n",
            "Kurtosis (normal): 5.97828716105282\n"
          ]
        }
      ]
    },
    {
      "cell_type": "code",
      "source": [
        "#8 Generate a dataset and demonstrate positive and negative skewness?\n",
        "\n",
        "import numpy as np\n",
        "import pandas as pd\n",
        "import matplotlib.pyplot as plt\n",
        "import seaborn as sns\n",
        "from scipy.stats import skew\n",
        "\n",
        "# Set the style\n",
        "sns.set(style=\"whitegrid\")\n",
        "\n",
        "# Generate datasets\n",
        "np.random.seed(42)\n",
        "right_skewed = np.random.exponential(scale=2, size=1000)      # Positive skew\n",
        "left_skewed = -1 * np.random.exponential(scale=2, size=1000)  # Negative skew\n",
        "\n",
        "# Calculate skewness\n",
        "right_skewness = skew(right_skewed)\n",
        "left_skewness = skew(left_skewed)\n",
        "\n",
        "# Plot both histograms\n",
        "plt.figure(figsize=(14, 6))\n",
        "\n",
        "# Positive skew (Right-skewed)\n",
        "plt.subplot(1, 2, 1)\n",
        "sns.histplot(right_skewed, bins=30, kde=True, color='skyblue')\n",
        "plt.title(f\"Right-Skewed Distribution\\nSkewness = {right_skewness:.2f}\")\n",
        "plt.xlabel(\"Value\")\n",
        "plt.ylabel(\"Frequency\")\n",
        "\n",
        "# Negative skew (Left-skewed)\n",
        "plt.subplot(1, 2, 2)\n",
        "sns.histplot(left_skewed, bins=30, kde=True, color='salmon')\n",
        "plt.title(f\"Left-Skewed Distribution\\nSkewness = {left_skewness:.2f}\")\n",
        "plt.xlabel(\"Value\")\n",
        "plt.ylabel(\"Frequency\")\n",
        "\n",
        "plt.tight_layout()\n",
        "plt.show()"
      ],
      "metadata": {
        "colab": {
          "base_uri": "https://localhost:8080/",
          "height": 600
        },
        "id": "nKm4v7LMY_Ck",
        "outputId": "1266e1a7-7a02-4262-cc43-453356c27d57"
      },
      "execution_count": 13,
      "outputs": [
        {
          "output_type": "display_data",
          "data": {
            "text/plain": [
              "<Figure size 1400x600 with 2 Axes>"
            ],
            "image/png": "[encoded data removed]"
          },
          "metadata": {}
        }
      ]
    },
    {
      "cell_type": "code",
      "source": [
        "#9 Write a Python script to calculate covariance between two datasets?\n",
        "\n",
        "import numpy as np\n",
        "\n",
        "# Sample datasets\n",
        "x = [2, 4, 6, 8, 10]\n",
        "y = [5, 9, 12, 15, 20]\n",
        "\n",
        "# Manual calculation of covariance\n",
        "def covariance(x, y):\n",
        "    n = len(x)\n",
        "    mean_x = sum(x) / n\n",
        "    mean_y = sum(y) / n\n",
        "    cov = sum((x[i] - mean_x) * (y[i] - mean_y) for i in range(n)) / (n - 1)\n",
        "    return cov\n",
        "\n",
        "cov_manual = covariance(x, y)\n",
        "print(\"Manual Covariance:\", cov_manual)\n",
        "\n",
        "# Using NumPy\n",
        "cov_matrix = np.cov(x, y)  # Returns covariance matrix\n",
        "cov_numpy = cov_matrix[0, 1]  # Covariance between x and y\n",
        "print(\"NumPy Covariance:\", cov_numpy)\n"
      ],
      "metadata": {
        "colab": {
          "base_uri": "https://localhost:8080/"
        },
        "id": "tTaip4j1ZrJ1",
        "outputId": "87f3c322-bd7d-4e81-d399-2bdabe2986d7"
      },
      "execution_count": 14,
      "outputs": [
        {
          "output_type": "stream",
          "name": "stdout",
          "text": [
            "Manual Covariance: 18.0\n",
            "NumPy Covariance: 18.0\n"
          ]
        }
      ]
    },
    {
      "cell_type": "code",
      "source": [
        "#10 Write a Python script to calculate the correlation coefficient between two dataset?\n",
        "\n",
        "import numpy as np\n",
        "\n",
        "# Sample datasets\n",
        "x = [2, 4, 6, 8, 10]\n",
        "y = [5, 9, 12, 15, 20]\n",
        "\n",
        "# Manual calculation of Pearson correlation coefficient\n",
        "def correlation_coefficient(x, y):\n",
        "    n = len(x)\n",
        "    mean_x = sum(x) / n\n",
        "    mean_y = sum(y) / n\n",
        "\n",
        "    numerator = sum((x[i] - mean_x) * (y[i] - mean_y) for i in range(n))\n",
        "    denominator_x = sum((x[i] - mean_x)**2 for i in range(n))\n",
        "    denominator_y = sum((y[i] - mean_y)**2 for i in range(n))\n",
        "\n",
        "    correlation = numerator / (denominator_x**0.5 * denominator_y**0.5)\n",
        "    return correlation\n",
        "\n",
        "corr_manual = correlation_coefficient(x, y)\n",
        "print(\"Manual Correlation Coefficient:\", corr_manual)\n",
        "\n",
        "# Using NumPy\n",
        "corr_numpy = np.corrcoef(x, y)[0, 1]\n",
        "print(\"NumPy Correlation Coefficient:\", corr_numpy)"
      ],
      "metadata": {
        "colab": {
          "base_uri": "https://localhost:8080/"
        },
        "id": "0Du0qcoPZ8jk",
        "outputId": "e8bccca5-b73b-49c7-a1a0-c92d20349125"
      },
      "execution_count": 15,
      "outputs": [
        {
          "output_type": "stream",
          "name": "stdout",
          "text": [
            "Manual Correlation Coefficient: 0.9954022744967959\n",
            "NumPy Correlation Coefficient: 0.9954022744967957\n"
          ]
        }
      ]
    },
    {
      "cell_type": "code",
      "source": [
        "#11 Create a scatter plot to visualize the relationship between two variables?\n",
        "\n",
        "\n",
        "import matplotlib.pyplot as plt\n",
        "import seaborn as sns\n",
        "import pandas as pd\n",
        "\n",
        "# Sample data\n",
        "data = {\n",
        "    'Variable_X': [2, 4, 6, 8, 10, 12, 14, 16],\n",
        "    'Variable_Y': [5, 9, 12, 15, 20, 22, 25, 30]\n",
        "}\n",
        "\n",
        "df = pd.DataFrame(data)\n",
        "\n",
        "# Plot using seaborn\n",
        "plt.figure(figsize=(8, 5))\n",
        "sns.scatterplot(x='Variable_X', y='Variable_Y', data=df, color='blue', s=100)\n",
        "\n",
        "plt.title('Scatter Plot of Variable_X vs Variable_Y')\n",
        "plt.xlabel('Variable X')\n",
        "plt.ylabel('Variable Y')\n",
        "plt.grid(True)\n",
        "plt.show()"
      ],
      "metadata": {
        "colab": {
          "base_uri": "https://localhost:8080/",
          "height": 496
        },
        "id": "owovSiDSaKf8",
        "outputId": "4c54b27d-bdd9-49b0-af86-63ef3329c4d1"
      },
      "execution_count": 16,
      "outputs": [
        {
          "output_type": "display_data",
          "data": {
            "text/plain": [
              "<Figure size 800x500 with 1 Axes>"
            ],
            "image/png": "[encoded data removed]"
          },
          "metadata": {}
        }
      ]
    },
    {
      "cell_type": "code",
      "source": [
        "#12  Implement and compare simple random sampling and systematic sampling?\n",
        "\n",
        "import pandas as pd\n",
        "\n",
        "# Sample dataset of 20 items\n",
        "data = {\n",
        "    'ID': range(1, 21),\n",
        "    'Value': [23, 45, 12, 67, 34, 89, 22, 44, 56, 78, 90, 11, 43, 55, 66, 77, 88, 99, 21, 32]\n",
        "}\n",
        "\n",
        "df = pd.DataFrame(data)\n",
        "print(\"Original Dataset:\\n\", df)\n",
        "\n",
        "simple_random_sample = df.sample(n=5, random_state=42)\n",
        "print(\"\\nSimple Random Sample:\\n\", simple_random_sample)\n",
        "\n",
        "def systematic_sampling(df, k):\n",
        "    indices = list(range(0, len(df), k))\n",
        "    return df.iloc[indices]\n",
        "\n",
        "k = 4  # Interval\n",
        "systematic_sample = systematic_sampling(df, k)\n",
        "print(\"\\nSystematic Sample (every 4th item):\\n\", systematic_sample)"
      ],
      "metadata": {
        "colab": {
          "base_uri": "https://localhost:8080/"
        },
        "id": "TbwyaOWzbEPO",
        "outputId": "b458aef2-715a-4324-b451-494d8cc3ecd9"
      },
      "execution_count": 17,
      "outputs": [
        {
          "output_type": "stream",
          "name": "stdout",
          "text": [
            "Original Dataset:\n",
            "     ID  Value\n",
            "0    1     23\n",
            "1    2     45\n",
            "2    3     12\n",
            "3    4     67\n",
            "4    5     34\n",
            "5    6     89\n",
            "6    7     22\n",
            "7    8     44\n",
            "8    9     56\n",
            "9   10     78\n",
            "10  11     90\n",
            "11  12     11\n",
            "12  13     43\n",
            "13  14     55\n",
            "14  15     66\n",
            "15  16     77\n",
            "16  17     88\n",
            "17  18     99\n",
            "18  19     21\n",
            "19  20     32\n",
            "\n",
            "Simple Random Sample:\n",
            "     ID  Value\n",
            "0    1     23\n",
            "17  18     99\n",
            "15  16     77\n",
            "1    2     45\n",
            "8    9     56\n",
            "\n",
            "Systematic Sample (every 4th item):\n",
            "     ID  Value\n",
            "0    1     23\n",
            "4    5     34\n",
            "8    9     56\n",
            "12  13     43\n",
            "16  17     88\n"
          ]
        }
      ]
    },
    {
      "cell_type": "code",
      "source": [
        "#13 Calculate the mean, median, and mode of grouped data\n",
        "\n",
        "\n",
        "import numpy as np\n",
        "\n",
        "# Class intervals and frequencies\n",
        "class_intervals = [(10, 20), (20, 30), (30, 40), (40, 50), (50, 60)]\n",
        "frequencies = [5, 8, 12, 7, 3]\n",
        "\n",
        "# Class marks (midpoints)\n",
        "mid_points = [(low + high) / 2 for low, high in class_intervals]\n",
        "\n",
        "# Total frequency\n",
        "N = sum(frequencies)\n",
        "\n",
        "# --- Mean ---\n",
        "mean = sum(f * m for f, m in zip(frequencies, mid_points)) / N\n",
        "\n",
        "# --- Median ---\n",
        "cum_freq = np.cumsum(frequencies)\n",
        "median_class_index = np.where(cum_freq >= N / 2)[0][0]\n",
        "\n",
        "L = class_intervals[median_class_index][0]\n",
        "F = cum_freq[median_class_index - 1] if median_class_index != 0 else 0\n",
        "f_median = frequencies[median_class_index]\n",
        "h = class_intervals[median_class_index][1] - L\n",
        "\n",
        "median = L + ((N/2 - F) / f_median) * h\n",
        "\n",
        "# --- Mode ---\n",
        "mode_class_index = np.argmax(frequencies)\n",
        "\n",
        "L = class_intervals[mode_class_index][0]\n",
        "f1 = frequencies[mode_class_index]\n",
        "f0 = frequencies[mode_class_index - 1] if mode_class_index != 0 else 0\n",
        "f2 = frequencies[mode_class_index + 1] if mode_class_index != len(frequencies) - 1 else 0\n",
        "\n",
        "mode = L + ((f1 - f0) / ((2 * f1) - f0 - f2)) * h\n",
        "\n",
        "\n",
        "print(f\"Mean = {mean:.2f}\")\n",
        "print(f\"Median = {median:.2f}\")\n",
        "print(f\"Mode = {mode:.2f}\")"
      ],
      "metadata": {
        "colab": {
          "base_uri": "https://localhost:8080/"
        },
        "id": "3BBJxTOdbeIt",
        "outputId": "1a8d00ae-682f-4ae8-a7d7-2899e148600a"
      },
      "execution_count": 19,
      "outputs": [
        {
          "output_type": "stream",
          "name": "stdout",
          "text": [
            "Mean = 33.57\n",
            "Median = 33.75\n",
            "Mode = 34.44\n"
          ]
        }
      ]
    },
    {
      "cell_type": "code",
      "source": [
        "#14 Simulate data using Python and calculate its central tendency and dispersion\n",
        "\n",
        "import numpy as np\n",
        "import pandas as pd\n",
        "from scipy import stats\n",
        "\n",
        "np.random.seed(0)\n",
        "data = np.random.normal(loc=50, scale=10, size=1000)\n",
        "df = pd.DataFrame(data, columns=['Values'])\n",
        "\n",
        "mean = np.mean(df['Values'])\n",
        "median = np.median(df['Values'])\n",
        "mode = stats.mode(df['Values'], keepdims=True).mode.item()\n",
        "\n",
        "variance = np.var(df['Values'], ddof=1)\n",
        "std_dev = np.std(df['Values'], ddof=1)\n",
        "data_range = np.max(df['Values']) - np.min(df['Values'])\n",
        "\n",
        "print(f\"Mean: {mean:.2f}\")\n",
        "print(f\"Median: {median:.2f}\")\n",
        "print(f\"Mode: {mode:.2f}\")\n",
        "print(f\"Variance: {variance:.2f}\")\n",
        "print(f\"Standard Deviation: {std_dev:.2f}\")\n",
        "print(f\"Range: {data_range:.2f}\")"
      ],
      "metadata": {
        "colab": {
          "base_uri": "https://localhost:8080/"
        },
        "id": "Hxc9IaF3b2dO",
        "outputId": "e5bcc51e-5ab7-4977-cade-07310e5a0259"
      },
      "execution_count": 24,
      "outputs": [
        {
          "output_type": "stream",
          "name": "stdout",
          "text": [
            "Mean: 49.55\n",
            "Median: 49.42\n",
            "Mode: 19.54\n",
            "Variance: 97.52\n",
            "Standard Deviation: 9.88\n",
            "Range: 58.05\n"
          ]
        }
      ]
    },
    {
      "cell_type": "code",
      "source": [
        "#15  Use NumPy or pandas to summarize a dataset’s descriptive statistics?\n",
        "\n",
        "\n",
        "import pandas as pd\n",
        "import numpy as np\n",
        "\n",
        "# Sample dataset\n",
        "data = {\n",
        "    'Age': [25, 30, 45, 35, 23, 42, 52, 46, 38, 40],\n",
        "    'Income': [50000, 60000, 80000, 75000, 48000, 67000, 90000, 85000, 62000, 72000],\n",
        "    'Score': [88, 92, 95, 85, 87, 90, 93, 89, 91, 94]\n",
        "}\n",
        "\n",
        "df = pd.DataFrame(data)\n",
        "\n",
        "# Get descriptive statistics\n",
        "summary = df.describe()\n",
        "print(summary)"
      ],
      "metadata": {
        "colab": {
          "base_uri": "https://localhost:8080/"
        },
        "id": "INN9Y-v2cbI0",
        "outputId": "1d835df2-4ac9-42a1-9489-fbafa48de4aa"
      },
      "execution_count": 25,
      "outputs": [
        {
          "output_type": "stream",
          "name": "stdout",
          "text": [
            "             Age        Income      Score\n",
            "count  10.000000     10.000000  10.000000\n",
            "mean   37.600000  68900.000000  90.400000\n",
            "std     9.395034  14137.813755   3.204164\n",
            "min    23.000000  48000.000000  85.000000\n",
            "25%    31.250000  60500.000000  88.250000\n",
            "50%    39.000000  69500.000000  90.500000\n",
            "75%    44.250000  78750.000000  92.750000\n",
            "max    52.000000  90000.000000  95.000000\n"
          ]
        }
      ]
    },
    {
      "cell_type": "code",
      "source": [
        "#16 Plot a boxplot to understand the spread and identify outliers?\n",
        "\n",
        "import matplotlib.pyplot as plt\n",
        "import seaborn as sns\n",
        "import pandas as pd\n",
        "import numpy as np\n",
        "\n",
        "# Sample data with some outliers\n",
        "np.random.seed(0)\n",
        "data = np.random.normal(loc=50, scale=10, size=100)\n",
        "outliers = [100, 105, 110]  # Add some outliers\n",
        "data_with_outliers = np.concatenate((data, outliers))\n",
        "\n",
        "df = pd.DataFrame({'Values': data_with_outliers})\n",
        "\n",
        "# Plot boxplot\n",
        "plt.figure(figsize=(8, 6))\n",
        "sns.boxplot(x=df['Values'], color='skyblue')\n",
        "plt.title('Boxplot of Values with Outliers')\n",
        "plt.xlabel('Value')\n",
        "plt.show()"
      ],
      "metadata": {
        "colab": {
          "base_uri": "https://localhost:8080/",
          "height": 573
        },
        "id": "HKWplWtYd50m",
        "outputId": "87e7ab71-cf93-410a-ea36-90f15309d6ce"
      },
      "execution_count": 26,
      "outputs": [
        {
          "output_type": "display_data",
          "data": {
            "text/plain": [
              "<Figure size 800x600 with 1 Axes>"
            ],
            "image/png": "[encoded data removed]"
          },
          "metadata": {}
        }
      ]
    },
    {
      "cell_type": "code",
      "source": [
        "#17 Calculate the interquartile range (IQR) of a dataset?\n",
        "\n",
        "import numpy as np\n",
        "\n",
        "data = [12, 7, 3, 21, 13, 18, 20, 10, 8, 15]\n",
        "\n",
        "Q1 = np.percentile(data, 25)\n",
        "Q3 = np.percentile(data, 75)\n",
        "IQR = Q3 - Q1\n",
        "\n",
        "print(f\"Q1 (25th percentile): {Q1}\")\n",
        "print(f\"Q3 (75th percentile): {Q3}\")\n",
        "print(f\"IQR: {IQR}\")"
      ],
      "metadata": {
        "colab": {
          "base_uri": "https://localhost:8080/"
        },
        "id": "1t5iAV6beEU1",
        "outputId": "3c124c47-55f5-45ec-96d3-40f87551b343"
      },
      "execution_count": 27,
      "outputs": [
        {
          "output_type": "stream",
          "name": "stdout",
          "text": [
            "Q1 (25th percentile): 8.5\n",
            "Q3 (75th percentile): 17.25\n",
            "IQR: 8.75\n"
          ]
        }
      ]
    },
    {
      "cell_type": "code",
      "source": [
        "#18 Implement Z-score normalization and explain its significance?\n",
        "\n",
        "import numpy as np\n",
        "\n",
        "# Sample data\n",
        "data = np.array([10, 15, 20, 25, 30])\n",
        "\n",
        "# Calculate mean and std deviation\n",
        "mean = np.mean(data)\n",
        "std_dev = np.std(data)\n",
        "\n",
        "# Z-score normalization\n",
        "z_scores = (data - mean) / std_dev\n",
        "\n",
        "print(\"Original data:\", data)\n",
        "print(\"Z-score normalized data:\", z_scores)"
      ],
      "metadata": {
        "colab": {
          "base_uri": "https://localhost:8080/"
        },
        "id": "T3YrcNIJedVd",
        "outputId": "1edbbdad-902e-41d1-ba26-40115e4a9205"
      },
      "execution_count": 28,
      "outputs": [
        {
          "output_type": "stream",
          "name": "stdout",
          "text": [
            "Original data: [10 15 20 25 30]\n",
            "Z-score normalized data: [-1.41421356 -0.70710678  0.          0.70710678  1.41421356]\n"
          ]
        }
      ]
    },
    {
      "cell_type": "code",
      "source": [
        "#19 Compare two datasets using their standard deviations?\n",
        "\n",
        "import numpy as np\n",
        "\n",
        "# Two sample datasets\n",
        "data1 = [10, 12, 23, 23, 16, 23, 21, 16]\n",
        "data2 = [22, 24, 29, 27, 25, 26, 30, 28]\n",
        "\n",
        "# Calculate standard deviations (sample std, ddof=1)\n",
        "std_dev1 = np.std(data1, ddof=1)\n",
        "std_dev2 = np.std(data2, ddof=1)\n",
        "\n",
        "print(f\"Standard Deviation of dataset 1: {std_dev1:.2f}\")\n",
        "print(f\"Standard Deviation of dataset 2: {std_dev2:.2f}\")\n",
        "\n",
        "if std_dev1 > std_dev2:\n",
        "    print(\"Dataset 1 has higher variability.\")\n",
        "elif std_dev1 < std_dev2:\n",
        "    print(\"Dataset 2 has higher variability.\")\n",
        "else:\n",
        "    print(\"Both datasets have equal variability.\")\n",
        "\n"
      ],
      "metadata": {
        "colab": {
          "base_uri": "https://localhost:8080/"
        },
        "id": "emQPUSdZevL0",
        "outputId": "567364a5-3c17-4894-d6da-624119541229"
      },
      "execution_count": 30,
      "outputs": [
        {
          "output_type": "stream",
          "name": "stdout",
          "text": [
            "Standard Deviation of dataset 1: 5.24\n",
            "Standard Deviation of dataset 2: 2.67\n",
            "Dataset 1 has higher variability.\n"
          ]
        }
      ]
    },
    {
      "cell_type": "code",
      "source": [
        "#20 Write a Python program to visualize covariance using a heatmap?\n",
        "\n",
        "\n",
        "import numpy as np\n",
        "import pandas as pd\n",
        "import seaborn as sns\n",
        "import matplotlib.pyplot as plt\n",
        "\n",
        "# Sample dataset with multiple variables\n",
        "np.random.seed(0)\n",
        "data = {\n",
        "    'X': np.random.normal(0, 1, 100),\n",
        "    'Y': np.random.normal(5, 2, 100),\n",
        "    'Z': np.random.normal(-3, 5, 100),\n",
        "    'W': np.random.normal(10, 1, 100)\n",
        "}\n",
        "\n",
        "df = pd.DataFrame(data)\n",
        "\n",
        "# Calculate covariance matrix\n",
        "cov_matrix = df.cov()\n",
        "\n",
        "# Plot covariance heatmap\n",
        "plt.figure(figsize=(8, 6))\n",
        "sns.heatmap(cov_matrix, annot=True, fmt=\".2f\", cmap='coolwarm', center=0)\n",
        "plt.title('Covariance Matrix Heatmap')\n",
        "plt.show()"
      ],
      "metadata": {
        "colab": {
          "base_uri": "https://localhost:8080/",
          "height": 549
        },
        "id": "Ylb9ROWNe_Ob",
        "outputId": "13878910-0bbb-4a26-bd9f-f18120491944"
      },
      "execution_count": 31,
      "outputs": [
        {
          "output_type": "display_data",
          "data": {
            "text/plain": [
              "<Figure size 800x600 with 2 Axes>"
            ],
            "image/png": "[encoded data removed]"
          },
          "metadata": {}
        }
      ]
    },
    {
      "cell_type": "code",
      "source": [
        "#21 Use seaborn to create a correlation matrix for a dataset?\n",
        "\n",
        "import pandas as pd\n",
        "import seaborn as sns\n",
        "import matplotlib.pyplot as plt\n",
        "\n",
        "# Example dataset: you can replace this with your own DataFrame\n",
        "data = {\n",
        "    'Age': [23, 45, 31, 35, 62, 41, 29, 54],\n",
        "    'Income': [50000, 64000, 58000, 60000, 72000, 61000, 57000, 69000],\n",
        "    'SpendingScore': [39, 81, 6, 77, 40, 76, 6, 94],\n",
        "    'Savings': [15000, 20000, 13000, 18000, 25000, 19000, 12000, 22000]\n",
        "}\n",
        "\n",
        "df = pd.DataFrame(data)\n",
        "\n",
        "# Calculate correlation matrix\n",
        "corr_matrix = df.corr()\n",
        "\n",
        "# Plot correlation heatmap using seaborn\n",
        "plt.figure(figsize=(8, 6))\n",
        "sns.heatmap(corr_matrix, annot=True, cmap='coolwarm', center=0)\n",
        "plt.title(\"Correlation Matrix Heatmap\")\n",
        "plt.show()"
      ],
      "metadata": {
        "colab": {
          "base_uri": "https://localhost:8080/",
          "height": 549
        },
        "id": "xjjgHYI3fQ0F",
        "outputId": "d971ee28-ed8f-40de-9703-e7b338fb75cf"
      },
      "execution_count": 32,
      "outputs": [
        {
          "output_type": "display_data",
          "data": {
            "text/plain": [
              "<Figure size 800x600 with 2 Axes>"
            ],
            "image/png": "[encoded data removed]"
          },
          "metadata": {}
        }
      ]
    },
    {
      "cell_type": "code",
      "source": [
        "#22 Generate a dataset and implement both variance and standard deviation computations?\n",
        "\n",
        "import numpy as np\n",
        "\n",
        "# Generate a random dataset of 15 numbers from a normal distribution\n",
        "np.random.seed(42)\n",
        "data = np.random.normal(loc=50, scale=5, size=15)\n",
        "print(\"Dataset:\", np.round(data, 2))\n",
        "\n",
        "# Number of data points\n",
        "n = len(data)\n",
        "\n",
        "# Calculate mean\n",
        "mean = np.mean(data)\n",
        "\n",
        "# --- Manual Variance Calculation (sample variance with ddof=1) ---\n",
        "variance_manual = sum((x - mean) ** 2 for x in data) / (n - 1)\n",
        "\n",
        "# --- Manual Standard Deviation Calculation ---\n",
        "std_dev_manual = variance_manual ** 0.5\n",
        "\n",
        "# --- Using NumPy functions ---\n",
        "variance_np = np.var(data, ddof=1)   # sample variance\n",
        "std_dev_np = np.std(data, ddof=1)    # sample standard deviation\n",
        "\n",
        "# Print results\n",
        "print(f\"\\nManual Variance: {variance_manual:.4f}\")\n",
        "print(f\"NumPy Variance: {variance_np:.4f}\")\n",
        "\n",
        "print(f\"\\nManual Standard Deviation: {std_dev_manual:.4f}\")\n",
        "print(f\"NumPy Standard Deviation: {std_dev_np:.4f}\")"
      ],
      "metadata": {
        "colab": {
          "base_uri": "https://localhost:8080/"
        },
        "id": "9cWuLpzjfgFl",
        "outputId": "e134af33-ba00-4c76-9f1c-035835b3cae0"
      },
      "execution_count": 33,
      "outputs": [
        {
          "output_type": "stream",
          "name": "stdout",
          "text": [
            "Dataset: [52.48 49.31 53.24 57.62 48.83 48.83 57.9  53.84 47.65 52.71 47.68 47.67\n",
            " 51.21 40.43 41.38]\n",
            "\n",
            "Manual Variance: 24.7086\n",
            "NumPy Variance: 24.7086\n",
            "\n",
            "Manual Standard Deviation: 4.9708\n",
            "NumPy Standard Deviation: 4.9708\n"
          ]
        }
      ]
    },
    {
      "cell_type": "code",
      "source": [
        "#23 Visualize skewness and kurtosis using Python libraries like matplotlib or seaborn?\n",
        "\n",
        "import numpy as np\n",
        "import seaborn as sns\n",
        "import matplotlib.pyplot as plt\n",
        "from scipy.stats import skew, kurtosis\n",
        "\n",
        "# Generate skewed data (positive skew example)\n",
        "np.random.seed(0)\n",
        "data = np.random.exponential(scale=2, size=1000)\n",
        "\n",
        "# Calculate skewness and kurtosis\n",
        "data_skewness = skew(data)\n",
        "data_kurtosis = kurtosis(data)  # excess kurtosis (normal=0)\n",
        "\n",
        "# Plot histogram and KDE\n",
        "plt.figure(figsize=(10, 6))\n",
        "sns.histplot(data, kde=True, color='skyblue', bins=30)\n",
        "\n",
        "# Add text box with skewness and kurtosis\n",
        "props = dict(boxstyle='round', facecolor='white', alpha=0.7)\n",
        "plt.text(x=max(data)*0.5, y=80,\n",
        "         s=f'Skewness: {data_skewness:.2f}\\nKurtosis: {data_kurtosis:.2f}',\n",
        "         bbox=props)\n",
        "\n",
        "plt.title('Distribution with Skewness and Kurtosis')\n",
        "plt.xlabel('Value')\n",
        "plt.ylabel('Frequency')\n",
        "plt.show()\n"
      ],
      "metadata": {
        "colab": {
          "base_uri": "https://localhost:8080/",
          "height": 573
        },
        "id": "o1gsDnYhfrzL",
        "outputId": "650ecd57-47a3-4194-d3bd-b9cf4d2ddbaa"
      },
      "execution_count": 34,
      "outputs": [
        {
          "output_type": "display_data",
          "data": {
            "text/plain": [
              "<Figure size 1000x600 with 1 Axes>"
            ],
            "image/png": "[encoded data removed]"
          },
          "metadata": {}
        }
      ]
    },
    {
      "cell_type": "code",
      "source": [
        "#24  Implement the Pearson and Spearman correlation coefficients for a dataset?\n",
        "\n",
        "import numpy as np\n",
        "import pandas as pd\n",
        "from scipy.stats import pearsonr, spearmanr\n",
        "\n",
        "# Sample dataset\n",
        "data = {\n",
        "    'X': [10, 20, 30, 40, 50, 60, 70, 80],\n",
        "    'Y': [15, 18, 32, 41, 55, 63, 70, 85]\n",
        "}\n",
        "\n",
        "df = pd.DataFrame(data)\n",
        "\n",
        "# Calculate Pearson correlation coefficient and p-value\n",
        "pearson_corr, pearson_p = pearsonr(df['X'], df['Y'])\n",
        "\n",
        "# Calculate Spearman correlation coefficient and p-value\n",
        "spearman_corr, spearman_p = spearmanr(df['X'], df['Y'])\n",
        "\n",
        "print(f\"Pearson correlation: {pearson_corr:.3f}, p-value: {pearson_p:.3f}\")\n",
        "print(f\"Spearman correlation: {spearman_corr:.3f}, p-value: {spearman_p:.3f}\")"
      ],
      "metadata": {
        "colab": {
          "base_uri": "https://localhost:8080/"
        },
        "id": "Vt2h1qxMgAhd",
        "outputId": "3d57b6d5-c9ef-4843-dbcc-0a2eaf13df22"
      },
      "execution_count": 35,
      "outputs": [
        {
          "output_type": "stream",
          "name": "stdout",
          "text": [
            "Pearson correlation: 0.995, p-value: 0.000\n",
            "Spearman correlation: 1.000, p-value: 0.000\n"
          ]
        }
      ]
    },
    {
      "cell_type": "code",
      "source": [],
      "metadata": {
        "id": "MBWlaPbZgPUM"
      },
      "execution_count": null,
      "outputs": []
    }
  ]
}